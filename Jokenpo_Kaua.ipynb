{
  "nbformat": 4,
  "nbformat_minor": 0,
  "metadata": {
    "colab": {
      "provenance": [],
      "authorship_tag": "ABX9TyOQAMPJ8HO1PyRwJSNL+1Gn",
      "include_colab_link": true
    },
    "kernelspec": {
      "name": "python3",
      "display_name": "Python 3"
    },
    "language_info": {
      "name": "python"
    }
  },
  "cells": [
    {
      "cell_type": "markdown",
      "metadata": {
        "id": "view-in-github",
        "colab_type": "text"
      },
      "source": [
        "<a href=\"https://colab.research.google.com/github/Allcantaraa/Jokenpo_Python/blob/main/Jokenpo_Kaua.ipynb\" target=\"_parent\"><img src=\"https://colab.research.google.com/assets/colab-badge.svg\" alt=\"Open In Colab\"/></a>"
      ]
    },
    {
      "cell_type": "code",
      "execution_count": null,
      "metadata": {
        "id": "lXL5Kd4uzBnp"
      },
      "outputs": [],
      "source": [
        "jokenpo = ['pedra', 'papel', 'tesoura']\n",
        "import random\n",
        "qtd_vitorias_usuario = 0\n",
        "qtd_vitorias_computador = 0\n",
        "qtd_empates= 0\n",
        "usuario_venceu = []\n",
        "computador_venceu = []\n",
        "empate = []\n",
        "\n",
        "for i in range(1,6) :\n",
        "  escolha_usuario = input('Escolha pedra papel ou tesoura: ').replace(' ', '').lower()\n",
        "  escolha_computador = random.choice(jokenpo)\n",
        "\n",
        "  if escolha_usuario not in jokenpo:\n",
        "    print(\"Escolha inválida\")\n",
        "    break\n",
        "\n",
        "  print(f\"O computador escolheu:  {escolha_computador}\")\n",
        "  print(f\"O usuario escolheu:  {escolha_usuario}\")\n",
        "\n",
        "  if escolha_usuario == escolha_computador:\n",
        "    print(\"Empate\")\n",
        "    qtd_empates +=1\n",
        "    empate.append(i)\n",
        "  elif escolha_usuario == 'pedra' and escolha_computador == 'tesoura':\n",
        "    print(\"Você ganhou\")\n",
        "    qtd_vitorias_usuario +=1\n",
        "    usuario_venceu.append(i)\n",
        "  elif escolha_usuario == 'papel' and escolha_computador == 'pedra':\n",
        "    print(\"Você ganhou\")\n",
        "    qtd_vitorias_usuario +=1\n",
        "    usuario_venceu.append(i)\n",
        "  elif escolha_usuario == 'tesoura' and escolha_computador == 'papel':\n",
        "    print(\"Você ganhou\")\n",
        "    qtd_vitorias_usuario +=1\n",
        "    usuario_venceu.append(i)\n",
        "  else:\n",
        "    print(\"Voce perdeu\")\n",
        "    qtd_vitorias_computador +=1\n",
        "    computador_venceu.append(i)\n",
        "\n",
        "if qtd_vitorias_computador + qtd_vitorias_usuario + qtd_empates < 5 :\n",
        "  print(\"O jogo não terminou. Reinicie o jogo\")\n",
        "else :\n",
        "  print(f\"O resultado é: \\nUSUARIO = {qtd_vitorias_usuario} \\nCOMPUTADOR = {qtd_vitorias_computador} \\nEMPATES = {qtd_empates}\")\n",
        "  print(f\"O COMPUTADOR venceu as rodadas = {computador_venceu}\")\n",
        "  print(f\"O USUARIO venceu as rodadas = {usuario_venceu}\")\n",
        "  print(f\"O(s) empate(s) foram nas rodadas = {empate}\")\n",
        "  print(\"Volte sempre para jogar\")"
      ]
    }
  ]
}